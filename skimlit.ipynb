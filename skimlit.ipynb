{
 "cells": [
  {
   "cell_type": "code",
   "execution_count": null,
   "metadata": {
    "id": "8MiD39U-eXwu"
   },
   "outputs": [],
   "source": [
    "!nvidia-smi"
   ]
  },
  {
   "cell_type": "code",
   "execution_count": 2,
   "metadata": {
    "id": "Emz_m0fNoXQZ"
   },
   "outputs": [
    {
     "name": "stdout",
     "output_type": "stream",
     "text": [
      "^C\n"
     ]
    }
   ],
   "source": [
    "!git clone https://github.com/Franck-Dernoncourt/pubmed-rct.git"
   ]
  },
  {
   "cell_type": "code",
   "execution_count": null,
   "metadata": {
    "id": "c9UHt8earZXA"
   },
   "outputs": [],
   "source": [
    "!ls pubmed-rct"
   ]
  },
  {
   "cell_type": "code",
   "execution_count": null,
   "metadata": {
    "id": "losB17NdrlI7"
   },
   "outputs": [],
   "source": [
    "data_dir = \"/content/pubmed-rct/PubMed_20k_RCT_numbers_replaced_with_at_sign\""
   ]
  },
  {
   "cell_type": "code",
   "execution_count": null,
   "metadata": {
    "id": "I_0YswLRt5lz"
   },
   "outputs": [],
   "source": [
    "import os\n",
    "filenames = [data_dir + filename for filename in os.listdir(data_dir)]\n",
    "filenames"
   ]
  },
  {
   "cell_type": "code",
   "execution_count": null,
   "metadata": {
    "id": "eVhHg0OkuEmj"
   },
   "outputs": [],
   "source": [
    "def get_lines(filename):\n",
    "  with open(filename,'r') as f:\n",
    "    return f.readlines()"
   ]
  },
  {
   "cell_type": "code",
   "execution_count": null,
   "metadata": {
    "id": "RJ_AVTAEwEGo"
   },
   "outputs": [],
   "source": [
    "train_lines = get_lines(data_dir+'/train.txt')\n",
    "train_lines[:20]"
   ]
  },
  {
   "cell_type": "code",
   "execution_count": null,
   "metadata": {
    "id": "U_lLP8GIwOix"
   },
   "outputs": [],
   "source": [
    "len(train_lines)"
   ]
  },
  {
   "cell_type": "code",
   "execution_count": null,
   "metadata": {
    "id": "V0FzkNzGwRVC"
   },
   "outputs": [],
   "source": [
    "def preprocess_text(filename):\n",
    "  input_lines = get_lines(filename)\n",
    "  abstract_lines = ''\n",
    "  abstract_samples = []\n",
    "\n",
    "  for line in input_lines:\n",
    "    if line.startswith(\"###\"):\n",
    "      abstract_id = line\n",
    "      abstract_lines = \"\"\n",
    "    elif line.isspace() :\n",
    "      abstract_line_split = abstract_lines.splitlines()\n",
    "      for abstract_line_number , abstract_line in enumerate(abstract_line_split):\n",
    "        line_data = {}\n",
    "        target_lines_split = abstract_line.split('\\t')\n",
    "        line_data['target'] = target_lines_split[0]\n",
    "        line_data['text'] = target_lines_split[1].lower()\n",
    "        line_data['number'] = abstract_line_number\n",
    "        line_data['total_lines'] = len(abstract_line_split)\n",
    "        abstract_samples.append(line_data)\n",
    "    else:\n",
    "      abstract_lines += line\n",
    "\n",
    "  return abstract_samples\n",
    "\n",
    "\n",
    "\n",
    "\n"
   ]
  },
  {
   "cell_type": "code",
   "execution_count": null,
   "metadata": {
    "id": "2hjjeUVAazi2"
   },
   "outputs": [],
   "source": [
    "train_samples = preprocess_text(data_dir + \"/train.txt\")\n",
    "val_samples = preprocess_text(data_dir + \"/dev.txt\")\n",
    "test_samples = preprocess_text(data_dir + \"/test.txt\")\n",
    "\n",
    "print(len(train_samples),len(val_samples),len(test_samples))"
   ]
  },
  {
   "cell_type": "code",
   "execution_count": null,
   "metadata": {
    "id": "cFHkvFvEbQHs"
   },
   "outputs": [],
   "source": [
    "train_samples[:13]"
   ]
  },
  {
   "cell_type": "code",
   "execution_count": null,
   "metadata": {
    "id": "e_aE4RNjbXLe"
   },
   "outputs": [],
   "source": [
    "import pandas as pd\n",
    "train_df = pd.DataFrame(train_samples)\n",
    "val_df = pd.DataFrame(val_samples)\n",
    "test_df = pd.DataFrame(test_samples)"
   ]
  },
  {
   "cell_type": "code",
   "execution_count": null,
   "metadata": {
    "id": "HPx76yPCjjXS"
   },
   "outputs": [],
   "source": [
    "train_df"
   ]
  },
  {
   "cell_type": "code",
   "execution_count": null,
   "metadata": {
    "id": "RX64rjoZjk7T"
   },
   "outputs": [],
   "source": [
    "train_df['target'].value_counts()"
   ]
  },
  {
   "cell_type": "code",
   "execution_count": null,
   "metadata": {
    "id": "7lBMA-9AkBfE"
   },
   "outputs": [],
   "source": [
    "train_df['total_lines'].plot.hist()"
   ]
  },
  {
   "cell_type": "code",
   "execution_count": null,
   "metadata": {
    "id": "6qldQ277kOJ7"
   },
   "outputs": [],
   "source": [
    "train_sentences = train_df[\"text\"].tolist()\n",
    "val_sentences = val_df[\"text\"].tolist()\n",
    "test_sentences = test_df[\"text\"].tolist()\n"
   ]
  },
  {
   "cell_type": "code",
   "execution_count": null,
   "metadata": {
    "id": "WQnXWpBnkhBA"
   },
   "outputs": [],
   "source": [
    "from sklearn.preprocessing import OneHotEncoder\n",
    "one_hot_encoder = OneHotEncoder(sparse=False)\n",
    "train_labels_one_hot = one_hot_encoder.fit_transform(train_df['target'].to_numpy().reshape(-1,1))\n",
    "val_labels_one_hot = one_hot_encoder.fit_transform(val_df['target'].to_numpy().reshape(-1,1))\n",
    "test_labels_one_hot = one_hot_encoder.fit_transform(test_df['target'].to_numpy().reshape(-1,1))"
   ]
  },
  {
   "cell_type": "code",
   "execution_count": null,
   "metadata": {
    "id": "PI2Vv5Jyn-A-"
   },
   "outputs": [],
   "source": [
    "from sklearn.preprocessing import LabelEncoder\n",
    "label_encoder = LabelEncoder()\n",
    "train_labels_encoded = label_encoder.fit_transform(train_df['target'].to_numpy())\n",
    "test_labels_encoded = label_encoder.fit_transform(test_df['target'].to_numpy())\n",
    "val_labels_encoded = label_encoder.fit_transform(val_df['target'].to_numpy())"
   ]
  },
  {
   "cell_type": "code",
   "execution_count": null,
   "metadata": {
    "id": "5Wv3GBASpXF2"
   },
   "outputs": [],
   "source": [
    "train_labels_encoded"
   ]
  },
  {
   "cell_type": "code",
   "execution_count": null,
   "metadata": {
    "id": "fJBYvyQgpZeH"
   },
   "outputs": [],
   "source": [
    "print(label_encoder.classes_)\n",
    "print(len(label_encoder.classes_))\n"
   ]
  },
  {
   "cell_type": "code",
   "execution_count": null,
   "metadata": {
    "id": "Q4NzpfEOpmL-"
   },
   "outputs": [],
   "source": [
    "from sklearn.feature_extraction.text import TfidfVectorizer\n",
    "from sklearn.naive_bayes import MultinomialNB\n",
    "from sklearn.pipeline import Pipeline\n",
    "\n",
    "model0 = Pipeline([\n",
    "    (\"tfidf\",TfidfVectorizer()),\n",
    "     (\"clf\",MultinomialNB())\n",
    "])\n",
    "\n",
    "model0.fit(train_sentences,train_labels_encoded)"
   ]
  },
  {
   "cell_type": "code",
   "execution_count": null,
   "metadata": {
    "id": "JIZ8Vq6Oq2Wm"
   },
   "outputs": [],
   "source": [
    "baseline_scores = model0.score(val_sentences,val_labels_encoded)\n",
    "baseline_scores"
   ]
  },
  {
   "cell_type": "code",
   "execution_count": null,
   "metadata": {
    "id": "GgyPDOS4rjAW"
   },
   "outputs": [],
   "source": [
    "baseline_preds = model0.predict(val_sentences)\n",
    "baseline_preds"
   ]
  },
  {
   "cell_type": "code",
   "execution_count": null,
   "metadata": {
    "id": "FM7igc6DrxXD"
   },
   "outputs": [],
   "source": [
    "import tensorflow as tf\n",
    "print(round(sum( [ len(sen.split()) for sen in train_sentences]))/len(train_sentences))"
   ]
  },
  {
   "cell_type": "code",
   "execution_count": null,
   "metadata": {
    "id": "P-CfMuUIvNO2"
   },
   "outputs": [],
   "source": [
    "import numpy as np\n",
    "# ehats the maximum value of 95% daata\n",
    "seq_len = np.percentile([len(sen.split()) for sen in train_sentences], 95)\n",
    "seq_len"
   ]
  },
  {
   "cell_type": "code",
   "execution_count": null,
   "metadata": {
    "id": "aX-Qjddjv-5a"
   },
   "outputs": [],
   "source": [
    "max_length = 55\n",
    "max_vocab_length = 68000"
   ]
  },
  {
   "cell_type": "code",
   "execution_count": null,
   "metadata": {
    "id": "OnHeYdKhuHbK"
   },
   "outputs": [],
   "source": [
    "from tensorflow.keras.layers.experimental.preprocessing import TextVectorization\n",
    "text_vectorizer = TextVectorization(max_tokens = max_vocab_length,\n",
    "                                 output_mode = 'int',\n",
    "                                 output_sequence_length = max_length)\n",
    "\n"
   ]
  },
  {
   "cell_type": "code",
   "execution_count": null,
   "metadata": {
    "id": "-H25AYkWwNkp"
   },
   "outputs": [],
   "source": [
    "import random\n",
    "text_vectorizer.adapt(train_sentences)\n"
   ]
  },
  {
   "cell_type": "code",
   "execution_count": null,
   "metadata": {
    "id": "wyuPCWjpwqFv"
   },
   "outputs": [],
   "source": [
    "ran_sen = random.choice(train_sentences)\n",
    "print(ran_sen)\n",
    "print(len(ran_sen.split()))\n",
    "text_vectorizer([ran_sen])\n"
   ]
  },
  {
   "cell_type": "code",
   "execution_count": null,
   "metadata": {
    "id": "IdIdacasxU0i"
   },
   "outputs": [],
   "source": [
    "words_in_vocab = text_vectorizer.get_vocabulary()\n",
    "print(len(words_in_vocab))\n",
    "print(words_in_vocab[:5])\n",
    "print(words_in_vocab[-5:])"
   ]
  },
  {
   "cell_type": "code",
   "execution_count": null,
   "metadata": {
    "id": "N5dkmbQuxyi6"
   },
   "outputs": [],
   "source": [
    "from tensorflow.keras import layers\n",
    "embedding = layers.Embedding(input_dim = len(words_in_vocab),\n",
    "                            output_dim = 128,\n",
    "                            name='embedding')"
   ]
  },
  {
   "cell_type": "code",
   "execution_count": null,
   "metadata": {
    "id": "emBulhmyz3Ee"
   },
   "outputs": [],
   "source": [
    "print(ran_sen)\n",
    "vectorized = text_vectorizer([ran_sen])\n",
    "print(vectorized)\n",
    "print(embedding(vectorized))"
   ]
  },
  {
   "cell_type": "code",
   "execution_count": null,
   "metadata": {
    "id": "SpZ2dwGm0QW4"
   },
   "outputs": [],
   "source": [
    "train_dataset = tf.data.Dataset.from_tensor_slices((train_sentences,train_labels_one_hot))\n",
    "test_dataset = tf.data.Dataset.from_tensor_slices((test_sentences,test_labels_one_hot))\n",
    "val_dataset = tf.data.Dataset.from_tensor_slices((val_sentences,val_labels_one_hot))\n",
    "\n",
    "len(train_dataset)"
   ]
  },
  {
   "cell_type": "code",
   "execution_count": null,
   "metadata": {
    "id": "Nf5i1isT9ztK"
   },
   "outputs": [],
   "source": [
    "train_dataset = train_dataset.batch(32).prefetch(buffer_size=tf.data.AUTOTUNE)\n",
    "test_dataset = test_dataset.batch(32).prefetch(buffer_size=tf.data.AUTOTUNE)\n",
    "val_dataset = val_dataset.batch(32).prefetch(buffer_size=tf.data.AUTOTUNE)\n",
    "train_dataset"
   ]
  },
  {
   "cell_type": "code",
   "execution_count": null,
   "metadata": {
    "id": "WjIo6a6y-vr5"
   },
   "outputs": [],
   "source": [
    "inputs = layers.Input(shape=(1,),dtype=tf.string)\n",
    "x = text_vectorizer(inputs)\n",
    "x = embedding(x)\n",
    "x = layers.Conv1D(filters=32,\n",
    "                  kernel_size=5,\n",
    "                  strides=1,\n",
    "                  activation=\"relu\",\n",
    "                  padding=\"same\")(x)\n",
    "x = layers.GlobalMaxPool1D()(x)\n",
    "x = layers.Dense(64,activation=\"relu\")(x)\n",
    "outputs = layers.Dense(5,activation=\"softmax\")(x)\n",
    "\n",
    "model1 = tf.keras.Model(inputs,outputs,name=\"model1\")\n"
   ]
  },
  {
   "cell_type": "code",
   "execution_count": null,
   "metadata": {
    "id": "L9mmdos2AXf-"
   },
   "outputs": [],
   "source": [
    "model1.summary()"
   ]
  },
  {
   "cell_type": "code",
   "execution_count": null,
   "metadata": {
    "id": "UGA3xDdLAcBV"
   },
   "outputs": [],
   "source": [
    "model1.compile(loss=\"categorical_crossentropy\",\n",
    "               optimizer = tf.keras.optimizers.Adam(),\n",
    "               metrics=[\"accuracy\"])"
   ]
  },
  {
   "cell_type": "code",
   "execution_count": null,
   "metadata": {
    "id": "If9auIBWA7Rm"
   },
   "outputs": [],
   "source": [
    "len(train_dataset)"
   ]
  },
  {
   "cell_type": "code",
   "execution_count": null,
   "metadata": {
    "id": "pZ4g2KQSAq3M"
   },
   "outputs": [],
   "source": [
    "history1 = model1.fit(train_dataset,\n",
    "           epochs=3,\n",
    "           steps_per_epoch = int(0.1*len(train_dataset)),\n",
    "           validation_data = val_dataset,\n",
    "           validation_steps = int(0.1*len(val_dataset)))"
   ]
  },
  {
   "cell_type": "code",
   "execution_count": null,
   "metadata": {
    "id": "ckkxrpNhCD4E"
   },
   "outputs": [],
   "source": [
    "model1.evaluate(val_dataset)"
   ]
  },
  {
   "cell_type": "code",
   "execution_count": null,
   "metadata": {
    "id": "VUHH39fdCl-0"
   },
   "outputs": [],
   "source": [
    "import tensorflow_hub as hub\n",
    "tf_hub_embedding_layer = hub.KerasLayer(\"https://tfhub.dev/google/universal-sentence-encoder/4\",\n",
    "                                        trainable=False,\n",
    "                                        name=\"usc\")"
   ]
  },
  {
   "cell_type": "code",
   "execution_count": null,
   "metadata": {
    "id": "BkvVN0QQFoXl"
   },
   "outputs": [],
   "source": [
    "inputs = layers.Input(shape=(),dtype=\"string\")\n",
    "x = tf_hub_embedding_layer(inputs)\n",
    "x = layers.Dense(128,activation=\"relu\")(x)\n",
    "outputs = layers.Dense(5,activation=\"softmax\")(x)\n",
    "model2 = tf.keras.Model(inputs,outputs,name=\"model2\")"
   ]
  },
  {
   "cell_type": "code",
   "execution_count": null,
   "metadata": {
    "id": "vx8bJ8suF0yO"
   },
   "outputs": [],
   "source": [
    "model2.summary()"
   ]
  },
  {
   "cell_type": "code",
   "execution_count": null,
   "metadata": {
    "id": "WrhJpSj7Hold"
   },
   "outputs": [],
   "source": [
    "model2.compile(loss=\"categorical_crossentropy\",\n",
    "               optimizer = tf.keras.optimizers.Adam(),\n",
    "               metrics=[\"accuracy\"])"
   ]
  },
  {
   "cell_type": "code",
   "execution_count": null,
   "metadata": {
    "id": "itqG9ibKHsQf"
   },
   "outputs": [],
   "source": [
    "history2 = model2.fit(train_dataset,\n",
    "           epochs=3,\n",
    "           steps_per_epoch = int(0.1*len(train_dataset)),\n",
    "           validation_data = val_dataset,\n",
    "           validation_steps = int(0.1*len(val_dataset)))"
   ]
  },
  {
   "cell_type": "code",
   "execution_count": null,
   "metadata": {
    "id": "KOeH_YvtH52-"
   },
   "outputs": [],
   "source": [
    "model2.evaluate(val_dataset)"
   ]
  },
  {
   "cell_type": "code",
   "execution_count": null,
   "metadata": {
    "id": "tPaJExNDIFQi"
   },
   "outputs": [],
   "source": [
    "def split_chars(text):\n",
    "  return \" \".join([char for char in text])\n",
    "\n",
    "print(split_chars(\"I love coding\"))"
   ]
  },
  {
   "cell_type": "code",
   "execution_count": null,
   "metadata": {
    "id": "-18VpNafst6y"
   },
   "outputs": [],
   "source": [
    "train_chars = [split_chars(sen) for sen in train_sentences]\n",
    "test_chars = [split_chars(sen) for sen in test_sentences]\n",
    "val_chars = [split_chars(sen) for sen in val_sentences]\n",
    "train_chars[:5]"
   ]
  },
  {
   "cell_type": "code",
   "execution_count": null,
   "metadata": {
    "id": "GEtAXVgdJmvw"
   },
   "outputs": [],
   "source": [
    "char_lens = [len(sen) for sen in train_sentences]\n",
    "mean_char_len = np.mean(char_lens)\n",
    "mean_char_len"
   ]
  },
  {
   "cell_type": "code",
   "execution_count": null,
   "metadata": {
    "id": "bT3P4c35JpUL"
   },
   "outputs": [],
   "source": [
    "import matplotlib.pyplot as plt\n",
    "plt.hist(char_lens)"
   ]
  },
  {
   "cell_type": "code",
   "execution_count": null,
   "metadata": {
    "id": "P75qGvqKqDMw"
   },
   "outputs": [],
   "source": [
    "import numpy as np\n",
    "output_seq = int(np.percentile(char_lens,95))\n",
    "output_seq"
   ]
  },
  {
   "cell_type": "code",
   "execution_count": null,
   "metadata": {
    "id": "jHMU_A3XqS1l"
   },
   "outputs": [],
   "source": [
    "import string\n",
    "alphabet = string.ascii_lowercase + string.digits + string.punctuation\n",
    "print(alphabet)\n",
    "max_char_tokens = len(alphabet) + 2 #space and oov"
   ]
  },
  {
   "cell_type": "code",
   "execution_count": null,
   "metadata": {
    "id": "z1egieb7q8xg"
   },
   "outputs": [],
   "source": [
    "char_vectorizer = TextVectorization(max_tokens=max_char_tokens,\n",
    "                                    output_mode = 'int',\n",
    "                                    output_sequence_length=output_seq)"
   ]
  },
  {
   "cell_type": "code",
   "execution_count": null,
   "metadata": {
    "id": "NdRJkmQur-8L"
   },
   "outputs": [],
   "source": [
    "char_vectorizer.adapt(train_chars)"
   ]
  },
  {
   "cell_type": "code",
   "execution_count": null,
   "metadata": {
    "id": "zgvQA7ClsKlm"
   },
   "outputs": [],
   "source": [
    "char_vocab = char_vectorizer.get_vocabulary()\n",
    "print(len(char_vocab))\n",
    "print(char_vocab[:5])\n",
    "print(char_vocab[-5:])"
   ]
  },
  {
   "cell_type": "code",
   "execution_count": null,
   "metadata": {
    "id": "v20aCUcFur7Q"
   },
   "outputs": [],
   "source": [
    "char_embed = layers.Embedding(input_dim = len(char_vocab),\n",
    "                              output_dim = 30\n",
    "                              )"
   ]
  },
  {
   "cell_type": "code",
   "execution_count": null,
   "metadata": {
    "id": "KLWgfUz9yk6P"
   },
   "outputs": [],
   "source": [
    "ex = \"I love coding\"\n",
    "char_vector = char_vectorizer([split_chars(ex)])\n",
    "print(char_vector)\n",
    "char_embed(char_vector)"
   ]
  },
  {
   "cell_type": "code",
   "execution_count": null,
   "metadata": {
    "id": "XGVVswhpzCRX"
   },
   "outputs": [],
   "source": [
    "inputs = layers.Input(shape=(1,),dtype=\"string\")\n",
    "x = char_vectorizer(inputs)\n",
    "x = char_embed(x)\n",
    "x = layers.Conv1D(64,kernel_size=5,padding='same',activation=\"relu\")(x)\n",
    "x = layers.GlobalMaxPool1D()(x)\n",
    "x = layers.Dense(64,activation=\"relu\")(x)\n",
    "outputs = layers.Dense(5,activation=\"softmax\")(x)\n",
    "\n",
    "model2 = tf.keras.Model(inputs,outputs)\n"
   ]
  },
  {
   "cell_type": "code",
   "execution_count": null,
   "metadata": {
    "id": "w4AbNKWv1ShU"
   },
   "outputs": [],
   "source": [
    "model2.compile(loss=\"categorical_crossentropy\",\n",
    "               optimizer = tf.keras.optimizers.Adam(),\n",
    "               metrics=[\"accuracy\"])"
   ]
  },
  {
   "cell_type": "code",
   "execution_count": null,
   "metadata": {
    "id": "UDDHdFAhES44"
   },
   "outputs": [],
   "source": [
    "model2.summary()"
   ]
  },
  {
   "cell_type": "code",
   "execution_count": null,
   "metadata": {
    "id": "pMEajrK9Ea5-"
   },
   "outputs": [],
   "source": [
    "train_char_dataset = tf.data.Dataset.from_tensor_slices((train_chars,train_labels_one_hot)).batch(32)\n",
    "test_char_dataset = tf.data.Dataset.from_tensor_slices((test_chars,test_labels_one_hot)).batch(32)\n",
    "val_char_dataset = tf.data.Dataset.from_tensor_slices((val_chars,val_labels_one_hot)).batch(32)\n",
    "train_char_dataset"
   ]
  },
  {
   "cell_type": "code",
   "execution_count": null,
   "metadata": {
    "id": "9CSGgQwtFNWk"
   },
   "outputs": [],
   "source": [
    "model2_history = model2.fit(train_char_dataset,\n",
    "                            epochs=3,\n",
    "                            steps_per_epoch=int(0.1*len(train_char_dataset)),\n",
    "                            validation_data = val_char_dataset,\n",
    "                            validation_steps = int(0.1*len(val_char_dataset)))"
   ]
  },
  {
   "cell_type": "code",
   "execution_count": null,
   "metadata": {
    "id": "ad3-zvHMGBJw"
   },
   "outputs": [],
   "source": [
    "token_inputs = layers.Input(shape=[],dtype=\"string\")\n",
    "x = tf_hub_embedding_layer(token_inputs)\n",
    "token_outputs = layers.Dense(128,activation=\"relu\")(x)\n",
    "token_model = tf.keras.Model(token_inputs,token_outputs)\n"
   ]
  },
  {
   "cell_type": "code",
   "execution_count": null,
   "metadata": {
    "id": "TqThZhAKNCe4"
   },
   "outputs": [],
   "source": [
    "char_inputs = layers.Input(shape=(1,),dtype=\"string\")\n",
    "char_vectors = char_vectorizer(char_inputs)\n",
    "char_embeddings = char_embed(char_vectors)\n",
    "char_bilstm = layers.Bidirectional(layers.LSTM(24))(char_embeddings)\n",
    "char_model = tf.keras.Model(char_inputs,char_bilstm)"
   ]
  },
  {
   "cell_type": "code",
   "execution_count": null,
   "metadata": {
    "id": "EOpYtGqJNq9k"
   },
   "outputs": [],
   "source": [
    "token_char_concat = layers.Concatenate()([token_model.output,char_model.output])"
   ]
  },
  {
   "cell_type": "code",
   "execution_count": null,
   "metadata": {
    "id": "7pxLgtKnOUyb"
   },
   "outputs": [],
   "source": [
    "combined_dense = layers.Dense(128,activation=\"relu\")(token_char_concat)\n",
    "dropout = layers.Dropout(0.5)(combined_dense)\n",
    "output_layer = layers.Dense(5,activation=\"softmax\")(dropout)\n",
    "\n",
    "model3 = tf.keras.Model(inputs=[token_model.input,char_model.input],\n",
    "                        outputs=output_layer)"
   ]
  },
  {
   "cell_type": "code",
   "execution_count": null,
   "metadata": {
    "id": "sNo7RJ1vQAkf"
   },
   "outputs": [],
   "source": [
    "model3.summary()"
   ]
  },
  {
   "cell_type": "code",
   "execution_count": null,
   "metadata": {
    "id": "RF90EsQjQL4L"
   },
   "outputs": [],
   "source": [
    "from tensorflow.keras.utils import plot_model\n",
    "plot_model(model3)"
   ]
  },
  {
   "cell_type": "code",
   "execution_count": null,
   "metadata": {
    "id": "lchhrLZFW5zo"
   },
   "outputs": [],
   "source": [
    "model3.compile(loss='categorical_crossentropy',\n",
    "               optimizer = tf.keras.optimizers.Adam(),\n",
    "               metrics=[\"accuracy\"])"
   ]
  },
  {
   "cell_type": "code",
   "execution_count": null,
   "metadata": {
    "id": "X0XAFNW20I-u"
   },
   "outputs": [],
   "source": []
  },
  {
   "cell_type": "code",
   "execution_count": null,
   "metadata": {
    "id": "t1Of4G3pXulx"
   },
   "outputs": [],
   "source": [
    "# prefetching is done in cpu and run on gpu\n",
    "train_char_token_data = tf.data.Dataset.from_tensor_slices((train_sentences,train_chars))\n",
    "train_char_token_label = tf.data.Dataset.from_tensor_slices((train_labels_one_hot))\n",
    "train_char_token_dataset = tf.data.Dataset.zip((train_char_token_data,train_char_token_label))\n",
    "\n",
    "train_char_token_dataset = train_char_token_dataset.batch(32).prefetch(tf.data.AUTOTUNE)\n"
   ]
  },
  {
   "cell_type": "code",
   "execution_count": null,
   "metadata": {
    "id": "UgaLGjIUrez_"
   },
   "outputs": [],
   "source": [
    "\n",
    "val_char_token_data = tf.data.Dataset.from_tensor_slices((val_sentences,val_chars)) # order must be same as u create the order in inputs model\n",
    "val_char_token_label = tf.data.Dataset.from_tensor_slices((val_labels_one_hot))\n",
    "val_char_token_dataset = tf.data.Dataset.zip((val_char_token_data,val_char_token_label))\n",
    "\n",
    "val_char_token_dataset = val_char_token_dataset.batch(32).prefetch(tf.data.AUTOTUNE)\n"
   ]
  },
  {
   "cell_type": "code",
   "execution_count": null,
   "metadata": {
    "id": "mB7RKhIFrt6u"
   },
   "outputs": [],
   "source": [
    "model3_history = model3.fit(train_char_token_dataset,\n",
    "           steps_per_epoch=int(0.1*len(train_char_token_dataset)),\n",
    "           epochs=3,\n",
    "           validation_data=val_char_token_dataset,\n",
    "           validation_steps=int(0.1*len(val_char_token_dataset)))"
   ]
  },
  {
   "cell_type": "code",
   "execution_count": null,
   "metadata": {
    "id": "SrXhanHus1vn"
   },
   "outputs": [],
   "source": [
    "train_df[\"number\"].value_counts()\n"
   ]
  },
  {
   "cell_type": "code",
   "execution_count": null,
   "metadata": {
    "id": "ehETrpqp5kKu"
   },
   "outputs": [],
   "source": [
    "np.percentile(train_df[\"number\"],97)"
   ]
  },
  {
   "cell_type": "code",
   "execution_count": null,
   "metadata": {
    "id": "NksBrWXs3Ezl"
   },
   "outputs": [],
   "source": [
    "train_line_numbers_one_hot = tf.one_hot(train_df[\"number\"].to_numpy() , depth=15)\n",
    "val_line_numbers_one_hot = tf.one_hot(val_df[\"number\"].to_numpy() , depth=15)\n",
    "test_line_numbers_one_hot = tf.one_hot(test_df[\"number\"].to_numpy() , depth=15)\n",
    "\n",
    "train_line_numbers_one_hot[:10]"
   ]
  },
  {
   "cell_type": "code",
   "execution_count": null,
   "metadata": {
    "id": "OOMxhBJU4VeS"
   },
   "outputs": [],
   "source": [
    "train_df[\"total_lines\"].value_counts()"
   ]
  },
  {
   "cell_type": "code",
   "execution_count": null,
   "metadata": {
    "id": "bIqJKvl35z0T"
   },
   "outputs": [],
   "source": [
    "type(list(train_df['total_lines']))"
   ]
  },
  {
   "cell_type": "code",
   "execution_count": null,
   "metadata": {
    "id": "NSvALx-P5KBh"
   },
   "outputs": [],
   "source": [
    "train_total_lines_one_hot = tf.one_hot(train_df[\"total_lines\"],depth=20)\n",
    "test_total_lines_one_hot = tf.one_hot(test_df[\"total_lines\"],depth=20)\n",
    "val_total_lines_one_hot = tf.one_hot(val_df[\"total_lines\"],depth=20)\n",
    "\n",
    "train_total_lines_one_hot[:10]"
   ]
  },
  {
   "cell_type": "code",
   "execution_count": null,
   "metadata": {
    "id": "JdhEsYv_6Ic8"
   },
   "outputs": [],
   "source": [
    "token_inputs = layers.Input(shape=[],dtype=\"string\")\n",
    "x = tf_hub_embedding_layer(token_inputs)\n",
    "token_outputs = layers.Dense(128,activation=\"relu\")(x)\n",
    "token_model =  tf.keras.Model(token_inputs,token_outputs)\n",
    "\n",
    "char_inputs = layers.Input(shape=(1,),dtype=\"string\")\n",
    "char_vectors = char_vectorizer(char_inputs)\n",
    "char_embeddings = char_embed(char_vectors)\n",
    "char_bilstm = layers.Bidirectional(layers.LSTM(24))(char_embeddings)\n",
    "char_model = tf.keras.Model(char_inputs,char_bilstm)\n",
    "\n",
    "line_number_input = layers.Input(shape=(15,),dtype=tf.float32)\n",
    "x = layers.Dense(128,activation=\"relu\")(line_number_input)\n",
    "line_number_model = tf.keras.Model(line_number_input,x)\n",
    "\n",
    "total_lines_input = layers.Input(shape=(20,),dtype=tf.float32)\n",
    "x = layers.Dense(128,activation=\"relu\")(total_lines_input)\n",
    "total_lines_model = tf.keras.Model(total_lines_input,x)\n",
    "\n",
    "\n",
    "combined_embeddings = layers.Concatenate()([token_model.output , char_model.output])\n",
    "x = layers.Dense(256,activation=\"relu\")(combined_embeddings)\n",
    "x = layers.Dropout(0.5)(x)\n",
    "combined_embeddings2 = layers.Concatenate()([line_number_model.output,total_lines_model.output,x])\n",
    "\n",
    "output_layer = layers.Dense(5,activation=\"softmax\")(combined_embeddings2)\n",
    "\n",
    "model4 = tf.keras.Model(inputs=[line_number_model.input,\n",
    "                                total_lines_model.input,\n",
    "                                token_model.input,\n",
    "                                char_model.input] ,\n",
    "                        outputs = [output_layer])\n"
   ]
  },
  {
   "cell_type": "code",
   "execution_count": null,
   "metadata": {
    "id": "btIO7fRx7VHg"
   },
   "outputs": [],
   "source": [
    "model4.summary()"
   ]
  },
  {
   "cell_type": "code",
   "execution_count": 99,
   "metadata": {
    "colab": {
     "base_uri": "https://localhost:8080/",
     "height": 856
    },
    "id": "ggtdntrPWCzp",
    "outputId": "d18eb67d-9a95-4b17-d9e1-f6d567510515"
   },
   "outputs": [
    {
     "data": {
      "image/png": "[encoded data removed]",
      "text/plain": [
       "<IPython.core.display.Image object>"
      ]
     },
     "execution_count": 99,
     "metadata": {},
     "output_type": "execute_result"
    }
   ],
   "source": [
    "plot_model(model4)"
   ]
  },
  {
   "cell_type": "code",
   "execution_count": 100,
   "metadata": {
    "id": "YBhOFh-pWHqf"
   },
   "outputs": [],
   "source": [
    "model3.compile(loss=tf.keras.losses.CategoricalCrossentropy(label_smoothing = 0.2),\n",
    "               optimizer = tf.keras.optimizers.Adam(),\n",
    "               metrics=[\"accuracy\"])\n",
    "\n",
    "#really confident model = [0,0,1,0,0] it may not learn other\n",
    "#label smoothing assigns some of value from highest pred prob to other class and helps generalisation [0.01,0.01,0.96,0.01,0.01]"
   ]
  },
  {
   "cell_type": "code",
   "execution_count": null,
   "metadata": {
    "id": "wPGn-pg7YjtR"
   },
   "outputs": [],
   "source": [
    "train_char_token_pos_data = tf.data.Dataset.from_tensor_slices([train_line_numbers_one_hot,\n",
    "                                                                train_total_lines_one_hot,\n",
    "                                                                train_sentences,\n",
    "                                                                train_chars])\n",
    "train_char_token_pos_labels = tf.data.Dataset.from_tensor_slices(train_labels_one_hot)\n",
    "train_char_token_pos_dataset = tf.data.Dataset.zip(train_char_token_pos_data,train_char_token_pos_labels)\n",
    "train_char_token_pos_dataset = train_char_token_pos_dataset.batch(32).prefetch(tf.data.AUTOTUNE)\n"
   ]
  },
  {
   "cell_type": "code",
   "execution_count": null,
   "metadata": {
    "id": "xTQilRyra_Xg"
   },
   "outputs": [],
   "source": [
    "val_char_token_pos_data = tf.data.Dataset.from_tensor_slices([val_line_numbers_one_hot,\n",
    "                                                                val_total_lines_one_hot,\n",
    "                                                                val_sentences,\n",
    "                                                                val_chars])\n",
    "val_char_token_pos_labels = tf.data.Dataset.from_tensor_slices(val_labels_one_hot)\n",
    "val_char_token_pos_dataset = tf.data.Dataset.zip(val_char_token_pos_data,train_char_token_pos_labels)\n",
    "val_char_token_pos_dataset = val_char_token_pos_dataset.batch(32).prefetch(tf.data.AUTOTUNE)\n",
    "\n"
   ]
  },
  {
   "cell_type": "code",
   "execution_count": null,
   "metadata": {
    "id": "6_O4XVJlZxE9"
   },
   "outputs": [],
   "source": [
    "model4_history = model4.fit(train_char_token_pos_dataset,\n",
    "           epochs=3,\n",
    "           steps_per_epoch = int(0.1*(train_char_token_pos_dataset)),\n",
    "           validation_data = val_char_token_pos_dataset,\n",
    "           validation_steps = int(0.1*(val_char_token_pos_dataset)))\n"
   ]
  },
  {
   "cell_type": "code",
   "execution_count": null,
   "metadata": {
    "id": "Fq_DWPE8agE7"
   },
   "outputs": [],
   "source": []
  }
 ],
 "metadata": {
  "accelerator": "GPU",
  "colab": {
   "gpuType": "T4",
   "provenance": []
  },
  "kernelspec": {
   "display_name": "Python 3 (ipykernel)",
   "language": "python",
   "name": "python3"
  },
  "language_info": {
   "codemirror_mode": {
    "name": "ipython",
    "version": 3
   },
   "file_extension": ".py",
   "mimetype": "text/x-python",
   "name": "python",
   "nbconvert_exporter": "python",
   "pygments_lexer": "ipython3",
   "version": "3.9.13"
  }
 },
 "nbformat": 4,
 "nbformat_minor": 1
}
